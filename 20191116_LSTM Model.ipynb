{
 "cells": [
  {
   "cell_type": "code",
   "execution_count": 3,
   "metadata": {},
   "outputs": [],
   "source": [
    "import numpy as np\n",
    "import operator\n",
    "import re, string\n",
    "import math"
   ]
  },
  {
   "cell_type": "code",
   "execution_count": 4,
   "metadata": {},
   "outputs": [],
   "source": [
    "SENTENCE_START_TOKEN = \"sentence_start\"\n",
    "SENTENCE_END_TOKEN = \"sentence_end\"\n",
    "UNKNOWN_TOKEN = \"unknown_token\"\n",
    "\n",
    "def load_data(_train=False, _test=False):\n",
    "    \"Load the MSRP dataset.\"\n",
    "    trainloc = 'msr_paraphrase_train.txt'\n",
    "    testloc = 'msr_paraphrase_test.txt'\n",
    "\n",
    "    sent1_train, sent2_train, sent1_test, sent2_test = [], [], [], []\n",
    "    label_train, label_dev, label_test = [], [], []\n",
    "\n",
    "    if _train:\n",
    "        with open(trainloc, 'r', encoding='utf8') as f:\n",
    "            f.readline()  # skipping the header of the file\n",
    "            for line in f:\n",
    "                text = line.strip().split('\\t')\n",
    "                sent1_train.append(\"%s %s %s\" % (SENTENCE_START_TOKEN, text[3], SENTENCE_END_TOKEN))\n",
    "                sent2_train.append(\"%s %s %s\" % (SENTENCE_START_TOKEN, text[4], SENTENCE_END_TOKEN))\n",
    "                label_train.append(int(text[0]))\n",
    "\n",
    "    if _test:\n",
    "        with open(testloc, 'r', encoding='utf8') as f:\n",
    "            f.readline()  # skipping the header of the file\n",
    "            for line in f:\n",
    "                text = line.strip().split('\\t')\n",
    "                sent1_test.append(\"%s %s %s\" % (SENTENCE_START_TOKEN, text[3], SENTENCE_END_TOKEN))\n",
    "                sent2_test.append(\"%s %s %s\" % (SENTENCE_START_TOKEN, text[4], SENTENCE_END_TOKEN))\n",
    "                label_test.append(int(text[0]))\n",
    "\n",
    "    if _train and _test:\n",
    "        return [sent1_train, sent2_train], [sent1_test, sent2_test], [label_train, label_test]\n",
    "    elif _train:\n",
    "        return [sent1_train, sent2_train], label_train\n",
    "    elif _test:\n",
    "        return [sent1_test, sent2_test], label_test"
   ]
  },
  {
   "cell_type": "code",
   "execution_count": 5,
   "metadata": {},
   "outputs": [],
   "source": [
    "[sent1_train, sent2_train], [sent1_test, sent2_test], [label_train, label_test] = load_data(_train=True, _test=True)"
   ]
  },
  {
   "cell_type": "code",
   "execution_count": 7,
   "metadata": {},
   "outputs": [
    {
     "data": {
      "text/plain": [
       "'sentence_start Amrozi accused his brother, whom he called \"the witness\", of deliberately distorting his evidence. sentence_end'"
      ]
     },
     "execution_count": 7,
     "metadata": {},
     "output_type": "execute_result"
    }
   ],
   "source": [
    "sent1_train[0]"
   ]
  },
  {
   "cell_type": "code",
   "execution_count": null,
   "metadata": {},
   "outputs": [],
   "source": []
  }
 ],
 "metadata": {
  "kernelspec": {
   "display_name": "Python 3",
   "language": "python",
   "name": "python3"
  },
  "language_info": {
   "codemirror_mode": {
    "name": "ipython",
    "version": 3
   },
   "file_extension": ".py",
   "mimetype": "text/x-python",
   "name": "python",
   "nbconvert_exporter": "python",
   "pygments_lexer": "ipython3",
   "version": "3.6.8"
  }
 },
 "nbformat": 4,
 "nbformat_minor": 2
}
